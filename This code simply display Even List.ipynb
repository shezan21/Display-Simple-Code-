{
 "cells": [
  {
   "cell_type": "markdown",
   "id": "4fa9371f",
   "metadata": {},
   "source": [
    "# My Jupyter Notebook on IBM Watson Studio"
   ]
  },
  {
   "cell_type": "markdown",
   "id": "e284eedc",
   "metadata": {},
   "source": [
    "**Shezan Qureshi**\n",
    "\n",
    "Desired occupation: Data Scientist"
   ]
  },
  {
   "cell_type": "markdown",
   "id": "1313e8e4",
   "metadata": {},
   "source": [
    "*I am interested in data science because Data science is being used by organizations across all industries, which means there are many job opportunities available. Secondly, it is a field that offers a high degree of job satisfaction as you will be solving complex problems and making a real impact on businesses and society.*"
   ]
  },
  {
   "cell_type": "markdown",
   "id": "754c0a13",
   "metadata": {},
   "source": [
    "### This code simply displays \"Even List\""
   ]
  },
  {
   "cell_type": "code",
   "execution_count": 3,
   "id": "3e864980",
   "metadata": {},
   "outputs": [
    {
     "name": "stdout",
     "output_type": "stream",
     "text": [
      "Even List\n"
     ]
    }
   ],
   "source": [
    "print(\"Even List\")"
   ]
  },
  {
   "cell_type": "markdown",
   "id": "a5930bf8",
   "metadata": {},
   "source": [
    "<li>Bulleted List Line 1</li>\n",
    "<li>Bulleted List Line 2</li>\n",
    "<li>Bulleted List Line 3</li>\n",
    "\n",
    "<li>Numbered List Item 1</li>\n",
    "<li>Numbered List Item 2</li>\n",
    "<li>Numbered List Item 3</li>"
   ]
  },
  {
   "cell_type": "markdown",
   "id": "5e83efe8",
   "metadata": {},
   "source": [
    "A Table with centerd cell:\n",
    ":-: <table>\n",
    "    <thead>\n",
    "    <tr>\n",
    "    <th>Header 1</th>\n",
    "<th>Header 2</th>\n",
    "<th>Header 3</th>\n",
    "</tr>\n",
    "</thead>\n",
    "<tbody>\n",
    "<tr>\n",
    "<td>Row 1</td>\n",
    "<td>Cell</td>\n",
    "<td>Cell</td>\n",
    "</tr>\n",
    "<tr>\n",
    "<td>Row 2</td>\n",
    "<td>Cell</td>\n",
    "<td>Cell</td>\n",
    "</tr>\n",
    "<tr>\n",
    "<td>Row 3</td>\n",
    "<td>Cell</td>\n",
    "<td>Cell</td>"
   ]
  },
  {
   "cell_type": "code",
   "execution_count": null,
   "id": "244960bb",
   "metadata": {},
   "outputs": [],
   "source": []
  }
 ],
 "metadata": {
  "kernelspec": {
   "display_name": "Python 3 (ipykernel)",
   "language": "python",
   "name": "python3"
  },
  "language_info": {
   "codemirror_mode": {
    "name": "ipython",
    "version": 3
   },
   "file_extension": ".py",
   "mimetype": "text/x-python",
   "name": "python",
   "nbconvert_exporter": "python",
   "pygments_lexer": "ipython3",
   "version": "3.10.7"
  }
 },
 "nbformat": 4,
 "nbformat_minor": 5
}
